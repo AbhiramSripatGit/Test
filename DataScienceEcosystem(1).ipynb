{
 "cells": [
  {
   "cell_type": "markdown",
   "id": "15866cce-f62e-4b6c-9327-1e636de325b1",
   "metadata": {},
   "source": [
    "Data Science Tools and Ecosystem"
   ]
  },
  {
   "cell_type": "markdown",
   "id": "645ccfa4-ac97-4c82-a551-575ed589322b",
   "metadata": {},
   "source": [
    "In this notebook, Data Science tools and Ecosystem are summarized "
   ]
  },
  {
   "cell_type": "markdown",
   "id": "4044b21d-2204-400f-967d-b199c939ed88",
   "metadata": {},
   "source": [
    "Some of the popular languages that data scientists use are:\n",
    "1. Python\n",
    "2. R\n",
    "3. Java"
   ]
  },
  {
   "cell_type": "markdown",
   "id": "42006cf0-b4d9-4556-9f2b-34c4cb94a2be",
   "metadata": {},
   "source": [
    "Some of the commonly used libraries by data scientists include:\n",
    "1. TensorFlow\n",
    "2. Pytorch\n",
    "3. Keras"
   ]
  },
  {
   "cell_type": "markdown",
   "id": "fbc0a11a-26fd-49a9-8ab3-79d833270810",
   "metadata": {},
   "source": [
    "| Data Science Tools | \n",
    "| Jupyter Notebooks |\n",
    "| RStudio | \n",
    "| Apache Spark | "
   ]
  },
  {
   "cell_type": "markdown",
   "id": "964776a4-3988-424f-b529-6a7f187291bc",
   "metadata": {},
   "source": [
    "# Data Science Tools and Ecosystem "
   ]
  },
  {
   "cell_type": "markdown",
   "id": "f4e36a96-044a-4de4-9da3-4244018a02d9",
   "metadata": {},
   "source": [
    "In this notebook, Data Science Tools and Ecosystem are summarized "
   ]
  },
  {
   "cell_type": "markdown",
   "id": "45f23b3b-8dc3-498d-94ab-4459240b3ab5",
   "metadata": {},
   "source": [
    "**Objectives:**"
   ]
  },
  {
   "cell_type": "markdown",
   "id": "e1fb6469-48e9-4baa-9217-86e05c61f945",
   "metadata": {},
   "source": [
    "- List some of the popular languages used in Data Science\n",
    "- List some of the libraries used by Data Science\n",
    "- List some of the tools used by Data Scientists"
   ]
  },
  {
   "cell_type": "markdown",
   "id": "84640a65-48d7-4fee-a1b1-df43742c1550",
   "metadata": {},
   "source": [
    "Some of the popular languages that Data Scientists use are: \n",
    "1. Python\n",
    "2. Java\n",
    "3. R"
   ]
  },
  {
   "cell_type": "markdown",
   "id": "6f34b391-bcf9-423f-a17a-1d91cc5670ea",
   "metadata": {},
   "source": [
    "Some of the commonly used libraries by Data Scientists include:\n",
    "1. Tensorflow\n",
    "2. PyTorch\n",
    "3. Keras"
   ]
  },
  {
   "cell_type": "markdown",
   "id": "7e679c2c-d4b5-4c63-8771-1c5a51e76680",
   "metadata": {},
   "source": [
    "| Data Science Tools |\n",
    "|--------------------|\n",
    "|Jupyter Notebooks|\n",
    "|RStudio|\n",
    "|Apache Spark|"
   ]
  },
  {
   "cell_type": "markdown",
   "id": "9ab8343d-6121-4795-944b-8a04d01e412e",
   "metadata": {},
   "source": [
    "### Below are a few examples of evaluating arithmetic expressions in Python"
   ]
  },
  {
   "cell_type": "code",
   "execution_count": 2,
   "id": "c9a538d4-c73e-4b72-8fda-2ece57d7c89f",
   "metadata": {},
   "outputs": [
    {
     "data": {
      "text/plain": [
       "17"
      ]
     },
     "execution_count": 2,
     "metadata": {},
     "output_type": "execute_result"
    }
   ],
   "source": [
    "#This is a simple arithmetic expression to multiply then add integers\n",
    "(3*4)+5"
   ]
  },
  {
   "cell_type": "code",
   "execution_count": 3,
   "id": "0eb5cf1f-3232-41fe-bd64-c4ea7c7cb027",
   "metadata": {},
   "outputs": [
    {
     "data": {
      "text/plain": [
       "3.3333333333333335"
      ]
     },
     "execution_count": 3,
     "metadata": {},
     "output_type": "execute_result"
    }
   ],
   "source": [
    "#This will convert 200 minutes to hours by diving by 60\n",
    "200/60"
   ]
  },
  {
   "cell_type": "markdown",
   "id": "ca41ffda-cf6b-42dc-a322-d7b2387926a6",
   "metadata": {},
   "source": [
    "## Author \n",
    "Abhiram "
   ]
  },
  {
   "cell_type": "code",
   "execution_count": null,
   "id": "13dc42ed-52f4-489e-9e15-d69c4729eef8",
   "metadata": {},
   "outputs": [],
   "source": []
  }
 ],
 "metadata": {
  "kernelspec": {
   "display_name": "Python 3 (ipykernel)",
   "language": "python",
   "name": "python3"
  },
  "language_info": {
   "codemirror_mode": {
    "name": "ipython",
    "version": 3
   },
   "file_extension": ".py",
   "mimetype": "text/x-python",
   "name": "python",
   "nbconvert_exporter": "python",
   "pygments_lexer": "ipython3",
   "version": "3.10.6"
  }
 },
 "nbformat": 4,
 "nbformat_minor": 5
}
